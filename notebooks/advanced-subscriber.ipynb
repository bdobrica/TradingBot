{
 "cells": [
  {
   "cell_type": "code",
   "execution_count": null,
   "metadata": {},
   "outputs": [
    {
     "name": "stdout",
     "output_type": "stream",
     "text": [
      "Starting the subscriber.\n",
      "Connecting using <ConnectionParameters host=localhost port=5672 virtual_host=/ ssl=False>.\n",
      "Connection opened. Opening a channel.\n",
      "Channel opened. Declaring an exchange.\n",
      "Exchange declared succeded. Declaring a queue.\n",
      "Queue declared succeded. Binding the queue to the exchange.\n",
      "Binding succeded. Adding QOS.\n",
      "Adding QOS succeded. Set to 1.\n",
      "Received message # 1 from publisher: b'{\"key\": \"value\"}'\n",
      "Received message # 2 from publisher: b'{\"key\": \"value\"}'\n",
      "Received message # 3 from publisher: b'{\"key\": \"value_5\"}'\n",
      "Received message # 4 from publisher: b'{\"key\": \"value_5\"}'\n",
      "Received message # 5 from publisher: b'{\"key\": \"value_6\"}'\n",
      "Received message # 6 from publisher: b'{\"key\": \"value_7\"}'\n",
      "Received message # 7 from publisher: b'{\"key\": \"value_7\"}'\n"
     ]
    }
   ],
   "source": [
    "import pika\n",
    "from daemons.rabbitmq import Subscriber\n",
    "\n",
    "params = pika.ConnectionParameters(host='localhost')\n",
    "subscriber = Subscriber(params)\n",
    "\n",
    "subscriber.run()"
   ]
  },
  {
   "cell_type": "code",
   "execution_count": null,
   "metadata": {},
   "outputs": [],
   "source": []
  }
 ],
 "metadata": {
  "kernelspec": {
   "display_name": "Python 3",
   "language": "python",
   "name": "python3"
  },
  "language_info": {
   "codemirror_mode": {
    "name": "ipython",
    "version": 3
   },
   "file_extension": ".py",
   "mimetype": "text/x-python",
   "name": "python",
   "nbconvert_exporter": "python",
   "pygments_lexer": "ipython3",
   "version": "3.7.3"
  }
 },
 "nbformat": 4,
 "nbformat_minor": 4
}
