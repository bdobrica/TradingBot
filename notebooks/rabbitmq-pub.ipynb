{
 "cells": [
  {
   "cell_type": "code",
   "execution_count": 5,
   "metadata": {},
   "outputs": [],
   "source": [
    "import pika\n",
    "import json\n",
    "\n",
    "params = pika.ConnectionParameters(host = 'localhost')\n",
    "conn = pika.BlockingConnection(params)\n",
    "channel = conn.channel()\n",
    "channel.queue_declare(queue = 'hello')\n",
    "\n",
    "channel.basic_publish(\n",
    "    exchange = '',\n",
    "    routing_key = 'hello',\n",
    "    body = json.dumps({'curs':'7 oct. 2020'})\n",
    ")\n",
    "\n",
    "conn.close()"
   ]
  },
  {
   "cell_type": "code",
   "execution_count": null,
   "metadata": {},
   "outputs": [],
   "source": []
  }
 ],
 "metadata": {
  "kernelspec": {
   "display_name": "Python 3",
   "language": "python",
   "name": "python3"
  },
  "language_info": {
   "codemirror_mode": {
    "name": "ipython",
    "version": 3
   },
   "file_extension": ".py",
   "mimetype": "text/x-python",
   "name": "python",
   "nbconvert_exporter": "python",
   "pygments_lexer": "ipython3",
   "version": "3.7.3"
  }
 },
 "nbformat": 4,
 "nbformat_minor": 4
}
